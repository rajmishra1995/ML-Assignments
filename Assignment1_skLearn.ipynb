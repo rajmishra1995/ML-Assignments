{
  "nbformat": 4,
  "nbformat_minor": 0,
  "metadata": {
    "colab": {
      "name": "CS6375Assignment1_skLearn.ipynb",
      "provenance": [],
      "collapsed_sections": []
    },
    "kernelspec": {
      "name": "python3",
      "display_name": "Python 3"
    },
    "language_info": {
      "name": "python"
    }
  },
  "cells": [
    {
      "cell_type": "markdown",
      "metadata": {
        "id": "hNjl4SIJgjHa"
      },
      "source": [
        "# **CS6375 Assignment 1 - skLearn Implementation**\n",
        "\n",
        "Contributors : \n",
        "  1.   Amit Kumar Net Id: axk210047\n",
        "  2.   Raj Mishra Net Id: rxm190093"
      ]
    },
    {
      "cell_type": "code",
      "metadata": {
        "id": "u77Cb_VHPyU6"
      },
      "source": [
        "import pandas as pd\n",
        "import numpy as np\n",
        "\n",
        "from sklearn.metrics import r2_score\n",
        "from sklearn.preprocessing import StandardScaler\n",
        "from sklearn.model_selection import train_test_split\n",
        "from sklearn.metrics import mean_squared_error\n",
        "from sklearn.linear_model import SGDRegressor"
      ],
      "execution_count": 7,
      "outputs": []
    },
    {
      "cell_type": "code",
      "metadata": {
        "id": "gZE6pZ0rQQkf"
      },
      "source": [
        "class SkLearnLinearRegression:\n",
        "\tdef __init__(self, alpha, strUrl, strDelim):\n",
        "\t\tself.alpha = alpha\n",
        "\t\tself.strUrl = strUrl\n",
        "\t\tself.strDelim = strDelim\n",
        "\n",
        "\tdef skLearnValues(self):\n",
        "\t\t#Read the CSV file from Google Drive and create the data frame\n",
        "\t\tdataFrame = pd.read_csv('https://drive.google.com/uc?export=download&id=' +self.strUrl.split('/')[-2], encoding = 'unicode_escape', delimiter = self.strDelim)\n",
        "\n",
        "\t\t# To drop any blank rows\n",
        "\t\tdataFrame.dropna(axis = 0, how = 'any', thresh = None, inplace = True) \n",
        "\n",
        "\t\t# Drop duplicate rows\n",
        "\t\tdataFrame.drop_duplicates(inplace=True)\n",
        "\n",
        "\t\t#Rebuild index after dropping rows\n",
        "\t\tdataFrame.reset_index(drop = True, inplace = True)\n",
        "\n",
        "\t\t# Convert Functioning Day value as 'Yes': 1, 'No' : 0\n",
        "\t\tdataFrame['Functioning Day'] = dataFrame['Functioning Day'].map({'Yes': 1, 'No' : 0})\n",
        "\n",
        "\t\t# Convert Holiday value as 'Holiday': 1, 'No Holiday' : 0\n",
        "\t\tdataFrame['Holiday'] = dataFrame['Holiday'].map({'Holiday': 1, 'No Holiday' : 0})\n",
        "\n",
        "\t\t# Convert Seasons values as 'Winter' : 1, 'Spring' : 2, 'Summer' : 3, 'Autumn' : 4\n",
        "\t\tdataFrame['Seasons'] = dataFrame['Seasons'].map({'Winter' : 1, 'Spring' : 2, 'Summer' : 3, 'Autumn' : 4})\n",
        "\n",
        "\t\tX = dataFrame.iloc[:, [2, 3, 4, 5, 6, 7, 8]]\n",
        "\n",
        "\t\tY = dataFrame.iloc[:, [1]]\n",
        "\t\tscalar = StandardScaler()\n",
        "\t\tX_train, X_test, Y_train, Y_test = train_test_split(X, Y, test_size = 0.2, random_state=5)\n",
        "\n",
        "\t\t# scaling the values\n",
        "\t\tX_train = scalar.fit(X_train).fit_transform(X_train)\n",
        "\t\tY_train = scalar.fit(Y_train).fit_transform(Y_train)\n",
        "\n",
        "\t\tX_test = scalar.fit(X_test).fit_transform(X_test)\n",
        "\t\tY_test = scalar.fit(Y_test).fit_transform(Y_test)\n",
        "\n",
        "\t\tX_train = np.hstack((np.ones((len(X_train),1)),X_train))\n",
        "\n",
        "\t\tX_test = np.hstack((np.ones((len(X_test),1)),X_test))\n",
        "\n",
        "\t\tmodelSgD = SGDRegressor(alpha = self.alpha)\n",
        "\t\tmodelSgD.fit(X_train, Y_train.ravel())\n",
        "\t\ty_predict = modelSgD.predict(X_test)\n",
        "\t\trmse = (np.sqrt(mean_squared_error(Y_test, y_predict)))\n",
        "\t\tr2_score(Y_test,y_predict)\n",
        "  \n",
        "\t\tvarience_val = np.var(np.absolute((np.subtract(Y_test,y_predict))))\n",
        "\t\tprint(\"RMSE     : \", rmse)\n",
        "\t\tprint(\"R2_SCORE : \", r2_score(Y_test,y_predict))\n",
        "\t\tprint(\"Variance Value:  : \", varience_val)\n"
      ],
      "execution_count": 8,
      "outputs": []
    },
    {
      "cell_type": "code",
      "metadata": {
        "id": "wwDgIrA1g5wo"
      },
      "source": [
        "model = SkLearnLinearRegression(0.193, 'https://drive.google.com/file/d/1M9KEyuwehbqOur2CKwN8wQL7DJvMhFTX/view?usp=sharing',',')\n",
        "model.skLearnValues()"
      ],
      "execution_count": null,
      "outputs": []
    }
  ]
}
